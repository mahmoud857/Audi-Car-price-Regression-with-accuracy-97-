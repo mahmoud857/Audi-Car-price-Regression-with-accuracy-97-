{
 "cells": [
  {
   "cell_type": "code",
   "execution_count": 1,
   "id": "34b98ce4",
   "metadata": {
    "execution": {
     "iopub.execute_input": "2021-08-29T13:37:55.387817Z",
     "iopub.status.busy": "2021-08-29T13:37:55.387037Z",
     "iopub.status.idle": "2021-08-29T13:37:56.647944Z",
     "shell.execute_reply": "2021-08-29T13:37:56.647287Z",
     "shell.execute_reply.started": "2021-08-29T13:37:15.968285Z"
    },
    "papermill": {
     "duration": 1.306682,
     "end_time": "2021-08-29T13:37:56.648153",
     "exception": false,
     "start_time": "2021-08-29T13:37:55.341471",
     "status": "completed"
    },
    "tags": []
   },
   "outputs": [],
   "source": [
    "import pandas as pd \n",
    "import numpy as np \n",
    "from sklearn.preprocessing import LabelEncoder\n",
    "from sklearn.preprocessing import MinMaxScaler\n",
    "from sklearn.model_selection import train_test_split\n",
    "from sklearn.ensemble import RandomForestRegressor\n",
    "from sklearn.tree import DecisionTreeRegressor\n",
    "from sklearn.svm import SVR\n",
    "from sklearn.linear_model import LinearRegression\n",
    "from sklearn.metrics import  mean_squared_error"
   ]
  },
  {
   "cell_type": "code",
   "execution_count": 2,
   "id": "025af6b3",
   "metadata": {
    "execution": {
     "iopub.execute_input": "2021-08-29T13:37:56.690502Z",
     "iopub.status.busy": "2021-08-29T13:37:56.689800Z",
     "iopub.status.idle": "2021-08-29T13:37:56.768855Z",
     "shell.execute_reply": "2021-08-29T13:37:56.768358Z",
     "shell.execute_reply.started": "2021-08-29T13:37:15.979447Z"
    },
    "papermill": {
     "duration": 0.101778,
     "end_time": "2021-08-29T13:37:56.769008",
     "exception": false,
     "start_time": "2021-08-29T13:37:56.667230",
     "status": "completed"
    },
    "tags": []
   },
   "outputs": [
    {
     "data": {
      "text/html": [
       "<div>\n",
       "<style scoped>\n",
       "    .dataframe tbody tr th:only-of-type {\n",
       "        vertical-align: middle;\n",
       "    }\n",
       "\n",
       "    .dataframe tbody tr th {\n",
       "        vertical-align: top;\n",
       "    }\n",
       "\n",
       "    .dataframe thead th {\n",
       "        text-align: right;\n",
       "    }\n",
       "</style>\n",
       "<table border=\"1\" class=\"dataframe\">\n",
       "  <thead>\n",
       "    <tr style=\"text-align: right;\">\n",
       "      <th></th>\n",
       "      <th>model</th>\n",
       "      <th>year</th>\n",
       "      <th>price</th>\n",
       "      <th>transmission</th>\n",
       "      <th>mileage</th>\n",
       "      <th>fuelType</th>\n",
       "      <th>tax</th>\n",
       "      <th>mpg</th>\n",
       "      <th>engineSize</th>\n",
       "    </tr>\n",
       "  </thead>\n",
       "  <tbody>\n",
       "    <tr>\n",
       "      <th>0</th>\n",
       "      <td>A1</td>\n",
       "      <td>2017</td>\n",
       "      <td>12500</td>\n",
       "      <td>Manual</td>\n",
       "      <td>15735</td>\n",
       "      <td>Petrol</td>\n",
       "      <td>150</td>\n",
       "      <td>55.4</td>\n",
       "      <td>1.4</td>\n",
       "    </tr>\n",
       "    <tr>\n",
       "      <th>1</th>\n",
       "      <td>A6</td>\n",
       "      <td>2016</td>\n",
       "      <td>16500</td>\n",
       "      <td>Automatic</td>\n",
       "      <td>36203</td>\n",
       "      <td>Diesel</td>\n",
       "      <td>20</td>\n",
       "      <td>64.2</td>\n",
       "      <td>2.0</td>\n",
       "    </tr>\n",
       "    <tr>\n",
       "      <th>2</th>\n",
       "      <td>A1</td>\n",
       "      <td>2016</td>\n",
       "      <td>11000</td>\n",
       "      <td>Manual</td>\n",
       "      <td>29946</td>\n",
       "      <td>Petrol</td>\n",
       "      <td>30</td>\n",
       "      <td>55.4</td>\n",
       "      <td>1.4</td>\n",
       "    </tr>\n",
       "    <tr>\n",
       "      <th>3</th>\n",
       "      <td>A4</td>\n",
       "      <td>2017</td>\n",
       "      <td>16800</td>\n",
       "      <td>Automatic</td>\n",
       "      <td>25952</td>\n",
       "      <td>Diesel</td>\n",
       "      <td>145</td>\n",
       "      <td>67.3</td>\n",
       "      <td>2.0</td>\n",
       "    </tr>\n",
       "    <tr>\n",
       "      <th>4</th>\n",
       "      <td>A3</td>\n",
       "      <td>2019</td>\n",
       "      <td>17300</td>\n",
       "      <td>Manual</td>\n",
       "      <td>1998</td>\n",
       "      <td>Petrol</td>\n",
       "      <td>145</td>\n",
       "      <td>49.6</td>\n",
       "      <td>1.0</td>\n",
       "    </tr>\n",
       "  </tbody>\n",
       "</table>\n",
       "</div>"
      ],
      "text/plain": [
       "  model  year  price transmission  mileage fuelType  tax   mpg  engineSize\n",
       "0    A1  2017  12500       Manual    15735   Petrol  150  55.4         1.4\n",
       "1    A6  2016  16500    Automatic    36203   Diesel   20  64.2         2.0\n",
       "2    A1  2016  11000       Manual    29946   Petrol   30  55.4         1.4\n",
       "3    A4  2017  16800    Automatic    25952   Diesel  145  67.3         2.0\n",
       "4    A3  2019  17300       Manual     1998   Petrol  145  49.6         1.0"
      ]
     },
     "execution_count": 2,
     "metadata": {},
     "output_type": "execute_result"
    }
   ],
   "source": [
    "audi=pd.read_csv(\"../input/used-car-dataset-ford-and-mercedes/audi.csv\")\n",
    "audi.head()"
   ]
  },
  {
   "cell_type": "code",
   "execution_count": 3,
   "id": "1c929ad1",
   "metadata": {
    "execution": {
     "iopub.execute_input": "2021-08-29T13:37:56.812686Z",
     "iopub.status.busy": "2021-08-29T13:37:56.811710Z",
     "iopub.status.idle": "2021-08-29T13:37:56.815561Z",
     "shell.execute_reply": "2021-08-29T13:37:56.816062Z",
     "shell.execute_reply.started": "2021-08-29T13:37:16.021686Z"
    },
    "papermill": {
     "duration": 0.028187,
     "end_time": "2021-08-29T13:37:56.816265",
     "exception": false,
     "start_time": "2021-08-29T13:37:56.788078",
     "status": "completed"
    },
    "tags": []
   },
   "outputs": [
    {
     "data": {
      "text/plain": [
       "(10668, 9)"
      ]
     },
     "execution_count": 3,
     "metadata": {},
     "output_type": "execute_result"
    }
   ],
   "source": [
    "audi.shape"
   ]
  },
  {
   "cell_type": "code",
   "execution_count": 4,
   "id": "ce5345f2",
   "metadata": {
    "execution": {
     "iopub.execute_input": "2021-08-29T13:37:56.870465Z",
     "iopub.status.busy": "2021-08-29T13:37:56.869649Z",
     "iopub.status.idle": "2021-08-29T13:37:56.873150Z",
     "shell.execute_reply": "2021-08-29T13:37:56.872534Z",
     "shell.execute_reply.started": "2021-08-29T13:37:16.028710Z"
    },
    "papermill": {
     "duration": 0.037618,
     "end_time": "2021-08-29T13:37:56.873311",
     "exception": false,
     "start_time": "2021-08-29T13:37:56.835693",
     "status": "completed"
    },
    "tags": []
   },
   "outputs": [
    {
     "data": {
      "text/plain": [
       "<bound method NDFrame.describe of       model  year  price transmission  mileage fuelType  tax   mpg  engineSize\n",
       "0        A1  2017  12500       Manual    15735   Petrol  150  55.4         1.4\n",
       "1        A6  2016  16500    Automatic    36203   Diesel   20  64.2         2.0\n",
       "2        A1  2016  11000       Manual    29946   Petrol   30  55.4         1.4\n",
       "3        A4  2017  16800    Automatic    25952   Diesel  145  67.3         2.0\n",
       "4        A3  2019  17300       Manual     1998   Petrol  145  49.6         1.0\n",
       "...     ...   ...    ...          ...      ...      ...  ...   ...         ...\n",
       "10663    A3  2020  16999       Manual     4018   Petrol  145  49.6         1.0\n",
       "10664    A3  2020  16999       Manual     1978   Petrol  150  49.6         1.0\n",
       "10665    A3  2020  17199       Manual      609   Petrol  150  49.6         1.0\n",
       "10666    Q3  2017  19499    Automatic     8646   Petrol  150  47.9         1.4\n",
       "10667    Q3  2016  15999       Manual    11855   Petrol  150  47.9         1.4\n",
       "\n",
       "[10668 rows x 9 columns]>"
      ]
     },
     "execution_count": 4,
     "metadata": {},
     "output_type": "execute_result"
    }
   ],
   "source": [
    "audi.describe"
   ]
  },
  {
   "cell_type": "code",
   "execution_count": 5,
   "id": "8c267c2c",
   "metadata": {
    "execution": {
     "iopub.execute_input": "2021-08-29T13:37:56.921223Z",
     "iopub.status.busy": "2021-08-29T13:37:56.920557Z",
     "iopub.status.idle": "2021-08-29T13:37:56.927021Z",
     "shell.execute_reply": "2021-08-29T13:37:56.926470Z",
     "shell.execute_reply.started": "2021-08-29T13:37:16.053238Z"
    },
    "papermill": {
     "duration": 0.034073,
     "end_time": "2021-08-29T13:37:56.927162",
     "exception": false,
     "start_time": "2021-08-29T13:37:56.893089",
     "status": "completed"
    },
    "tags": []
   },
   "outputs": [
    {
     "data": {
      "text/plain": [
       "model           0\n",
       "year            0\n",
       "price           0\n",
       "transmission    0\n",
       "mileage         0\n",
       "fuelType        0\n",
       "tax             0\n",
       "mpg             0\n",
       "engineSize      0\n",
       "dtype: int64"
      ]
     },
     "execution_count": 5,
     "metadata": {},
     "output_type": "execute_result"
    }
   ],
   "source": [
    "audi.isnull().sum()"
   ]
  },
  {
   "cell_type": "code",
   "execution_count": 6,
   "id": "688307ff",
   "metadata": {
    "execution": {
     "iopub.execute_input": "2021-08-29T13:37:56.972549Z",
     "iopub.status.busy": "2021-08-29T13:37:56.971762Z",
     "iopub.status.idle": "2021-08-29T13:37:56.983224Z",
     "shell.execute_reply": "2021-08-29T13:37:56.983809Z",
     "shell.execute_reply.started": "2021-08-29T13:37:16.066982Z"
    },
    "papermill": {
     "duration": 0.037143,
     "end_time": "2021-08-29T13:37:56.983980",
     "exception": false,
     "start_time": "2021-08-29T13:37:56.946837",
     "status": "completed"
    },
    "tags": []
   },
   "outputs": [
    {
     "data": {
      "text/plain": [
       "<bound method DataFrame.info of       model  year  price transmission  mileage fuelType  tax   mpg  engineSize\n",
       "0        A1  2017  12500       Manual    15735   Petrol  150  55.4         1.4\n",
       "1        A6  2016  16500    Automatic    36203   Diesel   20  64.2         2.0\n",
       "2        A1  2016  11000       Manual    29946   Petrol   30  55.4         1.4\n",
       "3        A4  2017  16800    Automatic    25952   Diesel  145  67.3         2.0\n",
       "4        A3  2019  17300       Manual     1998   Petrol  145  49.6         1.0\n",
       "...     ...   ...    ...          ...      ...      ...  ...   ...         ...\n",
       "10663    A3  2020  16999       Manual     4018   Petrol  145  49.6         1.0\n",
       "10664    A3  2020  16999       Manual     1978   Petrol  150  49.6         1.0\n",
       "10665    A3  2020  17199       Manual      609   Petrol  150  49.6         1.0\n",
       "10666    Q3  2017  19499    Automatic     8646   Petrol  150  47.9         1.4\n",
       "10667    Q3  2016  15999       Manual    11855   Petrol  150  47.9         1.4\n",
       "\n",
       "[10668 rows x 9 columns]>"
      ]
     },
     "execution_count": 6,
     "metadata": {},
     "output_type": "execute_result"
    }
   ],
   "source": [
    "audi.info"
   ]
  },
  {
   "cell_type": "code",
   "execution_count": 7,
   "id": "01480517",
   "metadata": {
    "execution": {
     "iopub.execute_input": "2021-08-29T13:37:57.027774Z",
     "iopub.status.busy": "2021-08-29T13:37:57.027141Z",
     "iopub.status.idle": "2021-08-29T13:37:57.042079Z",
     "shell.execute_reply": "2021-08-29T13:37:57.041480Z",
     "shell.execute_reply.started": "2021-08-29T13:37:16.090499Z"
    },
    "papermill": {
     "duration": 0.038374,
     "end_time": "2021-08-29T13:37:57.042242",
     "exception": false,
     "start_time": "2021-08-29T13:37:57.003868",
     "status": "completed"
    },
    "tags": []
   },
   "outputs": [
    {
     "data": {
      "text/plain": [
       "{0: ' A1',\n",
       " 1: ' A2',\n",
       " 2: ' A3',\n",
       " 3: ' A4',\n",
       " 4: ' A5',\n",
       " 5: ' A6',\n",
       " 6: ' A7',\n",
       " 7: ' A8',\n",
       " 8: ' Q2',\n",
       " 9: ' Q3',\n",
       " 10: ' Q5',\n",
       " 11: ' Q7',\n",
       " 12: ' Q8',\n",
       " 13: ' R8',\n",
       " 14: ' RS3',\n",
       " 15: ' RS4',\n",
       " 16: ' RS5',\n",
       " 17: ' RS6',\n",
       " 18: ' RS7',\n",
       " 19: ' S3',\n",
       " 20: ' S4',\n",
       " 21: ' S5',\n",
       " 22: ' S8',\n",
       " 23: ' SQ5',\n",
       " 24: ' SQ7',\n",
       " 25: ' TT'}"
      ]
     },
     "execution_count": 7,
     "metadata": {},
     "output_type": "execute_result"
    }
   ],
   "source": [
    "encoder = LabelEncoder()\n",
    "audi['model'] = encoder.fit_transform(audi['model'])\n",
    "model_mapping = {index : label for index, label in enumerate(encoder.classes_)}\n",
    "model_mapping"
   ]
  },
  {
   "cell_type": "code",
   "execution_count": 8,
   "id": "c2dc40bb",
   "metadata": {
    "execution": {
     "iopub.execute_input": "2021-08-29T13:37:57.094283Z",
     "iopub.status.busy": "2021-08-29T13:37:57.093613Z",
     "iopub.status.idle": "2021-08-29T13:37:57.096540Z",
     "shell.execute_reply": "2021-08-29T13:37:57.097056Z",
     "shell.execute_reply.started": "2021-08-29T13:37:16.113966Z"
    },
    "papermill": {
     "duration": 0.034639,
     "end_time": "2021-08-29T13:37:57.097238",
     "exception": false,
     "start_time": "2021-08-29T13:37:57.062599",
     "status": "completed"
    },
    "tags": []
   },
   "outputs": [
    {
     "data": {
      "text/plain": [
       "{0: 'Automatic', 1: 'Manual', 2: 'Semi-Auto'}"
      ]
     },
     "execution_count": 8,
     "metadata": {},
     "output_type": "execute_result"
    }
   ],
   "source": [
    "audi['transmission'] = encoder.fit_transform(audi['transmission'])\n",
    "transmission_mapping = {index : label for index, label in enumerate(encoder.classes_)}\n",
    "transmission_mapping"
   ]
  },
  {
   "cell_type": "code",
   "execution_count": 9,
   "id": "91d21557",
   "metadata": {
    "execution": {
     "iopub.execute_input": "2021-08-29T13:37:57.141814Z",
     "iopub.status.busy": "2021-08-29T13:37:57.141103Z",
     "iopub.status.idle": "2021-08-29T13:37:57.150682Z",
     "shell.execute_reply": "2021-08-29T13:37:57.151190Z",
     "shell.execute_reply.started": "2021-08-29T13:37:16.135474Z"
    },
    "papermill": {
     "duration": 0.033598,
     "end_time": "2021-08-29T13:37:57.151375",
     "exception": false,
     "start_time": "2021-08-29T13:37:57.117777",
     "status": "completed"
    },
    "tags": []
   },
   "outputs": [
    {
     "data": {
      "text/plain": [
       "{0: 'Diesel', 1: 'Hybrid', 2: 'Petrol'}"
      ]
     },
     "execution_count": 9,
     "metadata": {},
     "output_type": "execute_result"
    }
   ],
   "source": [
    "audi['fuelType'] = encoder.fit_transform(audi['fuelType'])\n",
    "fuelType_mapping = {index : label for index, label in enumerate(encoder.classes_)}\n",
    "fuelType_mapping"
   ]
  },
  {
   "cell_type": "code",
   "execution_count": 10,
   "id": "0732b376",
   "metadata": {
    "execution": {
     "iopub.execute_input": "2021-08-29T13:37:57.199051Z",
     "iopub.status.busy": "2021-08-29T13:37:57.198026Z",
     "iopub.status.idle": "2021-08-29T13:37:57.203032Z",
     "shell.execute_reply": "2021-08-29T13:37:57.202437Z",
     "shell.execute_reply.started": "2021-08-29T13:37:16.151489Z"
    },
    "papermill": {
     "duration": 0.030812,
     "end_time": "2021-08-29T13:37:57.203178",
     "exception": false,
     "start_time": "2021-08-29T13:37:57.172366",
     "status": "completed"
    },
    "tags": []
   },
   "outputs": [],
   "source": [
    "x = audi.drop('price', axis=1)\n",
    "y = audi['price']"
   ]
  },
  {
   "cell_type": "code",
   "execution_count": 11,
   "id": "a00c1ef0",
   "metadata": {
    "execution": {
     "iopub.execute_input": "2021-08-29T13:37:57.253133Z",
     "iopub.status.busy": "2021-08-29T13:37:57.252109Z",
     "iopub.status.idle": "2021-08-29T13:37:57.262677Z",
     "shell.execute_reply": "2021-08-29T13:37:57.263113Z",
     "shell.execute_reply.started": "2021-08-29T13:37:16.165864Z"
    },
    "papermill": {
     "duration": 0.039147,
     "end_time": "2021-08-29T13:37:57.263321",
     "exception": false,
     "start_time": "2021-08-29T13:37:57.224174",
     "status": "completed"
    },
    "tags": []
   },
   "outputs": [
    {
     "name": "stdout",
     "output_type": "stream",
     "text": [
      "x \n",
      " [[0.         0.86956522 0.5        0.04871223 1.         0.25862069\n",
      "  0.21546635 0.22222222]\n",
      " [0.2        0.82608696 0.         0.11208084 0.         0.03448276\n",
      "  0.2674144  0.31746032]\n",
      " [0.         0.82608696 0.5        0.09270927 1.         0.05172414\n",
      "  0.21546635 0.22222222]\n",
      " [0.12       0.86956522 0.         0.0803439  0.         0.25\n",
      "  0.28571429 0.31746032]\n",
      " [0.08       0.95652174 0.5        0.00618268 1.         0.25\n",
      "  0.18122786 0.15873016]\n",
      " [0.         0.82608696 0.         0.09987337 1.         0.05172414\n",
      "  0.23612751 0.22222222]\n",
      " [0.2        0.82608696 0.         0.23773139 0.         0.05172414\n",
      "  0.25088548 0.31746032]\n",
      " [0.12       0.82608696 0.5        0.23276852 0.         0.03448276\n",
      "  0.30519481 0.31746032]\n",
      " [0.08       0.7826087  0.5        0.14275896 1.         0.03448276\n",
      "  0.24321133 0.22222222]\n",
      " [0.         0.82608696 0.5        0.06950486 1.         0.05172414\n",
      "  0.21546635 0.22222222]]\n",
      "y \n",
      " 0    12500\n",
      "1    16500\n",
      "2    11000\n",
      "3    16800\n",
      "4    17300\n",
      "5    13900\n",
      "6    13250\n",
      "7    11750\n",
      "8    10200\n",
      "9    12000\n",
      "Name: price, dtype: int64\n"
     ]
    }
   ],
   "source": [
    "scaler = MinMaxScaler(copy=True, feature_range=(0, 1))\n",
    "X = scaler.fit_transform(x)\n",
    "\n",
    "#showing data\n",
    "print('x \\n' , X[:10])\n",
    "print('y \\n' , y[:10])"
   ]
  },
  {
   "cell_type": "code",
   "execution_count": 12,
   "id": "7260a085",
   "metadata": {
    "execution": {
     "iopub.execute_input": "2021-08-29T13:37:57.312109Z",
     "iopub.status.busy": "2021-08-29T13:37:57.311433Z",
     "iopub.status.idle": "2021-08-29T13:37:57.316651Z",
     "shell.execute_reply": "2021-08-29T13:37:57.317123Z",
     "shell.execute_reply.started": "2021-08-29T13:37:16.188548Z"
    },
    "papermill": {
     "duration": 0.032668,
     "end_time": "2021-08-29T13:37:57.317318",
     "exception": false,
     "start_time": "2021-08-29T13:37:57.284650",
     "status": "completed"
    },
    "tags": []
   },
   "outputs": [],
   "source": [
    "x_train,x_test,y_train,y_test=train_test_split(x,y,test_size=30,random_state=0)"
   ]
  },
  {
   "cell_type": "code",
   "execution_count": 13,
   "id": "5c254bb6",
   "metadata": {
    "execution": {
     "iopub.execute_input": "2021-08-29T13:37:57.363644Z",
     "iopub.status.busy": "2021-08-29T13:37:57.362709Z",
     "iopub.status.idle": "2021-08-29T13:37:57.369446Z",
     "shell.execute_reply": "2021-08-29T13:37:57.368734Z",
     "shell.execute_reply.started": "2021-08-29T13:37:16.199007Z"
    },
    "papermill": {
     "duration": 0.030968,
     "end_time": "2021-08-29T13:37:57.369633",
     "exception": false,
     "start_time": "2021-08-29T13:37:57.338665",
     "status": "completed"
    },
    "tags": []
   },
   "outputs": [
    {
     "name": "stdout",
     "output_type": "stream",
     "text": [
      "x_train shape is: (10638, 8)\n"
     ]
    }
   ],
   "source": [
    "print(\"x_train shape is:\",x_train.shape)"
   ]
  },
  {
   "cell_type": "code",
   "execution_count": 14,
   "id": "cdf0ebf8",
   "metadata": {
    "execution": {
     "iopub.execute_input": "2021-08-29T13:37:57.419054Z",
     "iopub.status.busy": "2021-08-29T13:37:57.418270Z",
     "iopub.status.idle": "2021-08-29T13:37:57.422034Z",
     "shell.execute_reply": "2021-08-29T13:37:57.421425Z",
     "shell.execute_reply.started": "2021-08-29T13:37:16.208882Z"
    },
    "papermill": {
     "duration": 0.030293,
     "end_time": "2021-08-29T13:37:57.422171",
     "exception": false,
     "start_time": "2021-08-29T13:37:57.391878",
     "status": "completed"
    },
    "tags": []
   },
   "outputs": [
    {
     "name": "stdout",
     "output_type": "stream",
     "text": [
      "x_test shape is: (30, 8)\n"
     ]
    }
   ],
   "source": [
    "print(\"x_test shape is:\",x_test.shape)"
   ]
  },
  {
   "cell_type": "code",
   "execution_count": 15,
   "id": "14c182ab",
   "metadata": {
    "execution": {
     "iopub.execute_input": "2021-08-29T13:37:57.471346Z",
     "iopub.status.busy": "2021-08-29T13:37:57.470628Z",
     "iopub.status.idle": "2021-08-29T13:37:57.474298Z",
     "shell.execute_reply": "2021-08-29T13:37:57.473763Z",
     "shell.execute_reply.started": "2021-08-29T13:37:16.218010Z"
    },
    "papermill": {
     "duration": 0.030013,
     "end_time": "2021-08-29T13:37:57.474431",
     "exception": false,
     "start_time": "2021-08-29T13:37:57.444418",
     "status": "completed"
    },
    "tags": []
   },
   "outputs": [
    {
     "name": "stdout",
     "output_type": "stream",
     "text": [
      "y_train shape is: (10638,)\n"
     ]
    }
   ],
   "source": [
    "print(\"y_train shape is:\",y_train.shape)"
   ]
  },
  {
   "cell_type": "code",
   "execution_count": 16,
   "id": "5f5f951a",
   "metadata": {
    "execution": {
     "iopub.execute_input": "2021-08-29T13:37:57.524103Z",
     "iopub.status.busy": "2021-08-29T13:37:57.523352Z",
     "iopub.status.idle": "2021-08-29T13:37:57.526985Z",
     "shell.execute_reply": "2021-08-29T13:37:57.527471Z",
     "shell.execute_reply.started": "2021-08-29T13:37:16.230314Z"
    },
    "papermill": {
     "duration": 0.030716,
     "end_time": "2021-08-29T13:37:57.527643",
     "exception": false,
     "start_time": "2021-08-29T13:37:57.496927",
     "status": "completed"
    },
    "tags": []
   },
   "outputs": [
    {
     "name": "stdout",
     "output_type": "stream",
     "text": [
      "y_test shape is: (30,)\n"
     ]
    }
   ],
   "source": [
    "print(\"y_test shape is:\",y_test.shape)"
   ]
  },
  {
   "cell_type": "code",
   "execution_count": 17,
   "id": "2599391d",
   "metadata": {
    "execution": {
     "iopub.execute_input": "2021-08-29T13:37:57.581428Z",
     "iopub.status.busy": "2021-08-29T13:37:57.580749Z",
     "iopub.status.idle": "2021-08-29T13:37:57.795060Z",
     "shell.execute_reply": "2021-08-29T13:37:57.795939Z",
     "shell.execute_reply.started": "2021-08-29T13:37:16.242743Z"
    },
    "papermill": {
     "duration": 0.246047,
     "end_time": "2021-08-29T13:37:57.796269",
     "exception": false,
     "start_time": "2021-08-29T13:37:57.550222",
     "status": "completed"
    },
    "tags": []
   },
   "outputs": [
    {
     "name": "stdout",
     "output_type": "stream",
     "text": [
      "Linear Regression Train Score is :  0.7872370974393208\n",
      "Linear Regression Test Score is :  0.5968641922659835\n",
      "Linear Regression Coef is :  [ 2.65982415e+02  2.12389914e+03 -1.77525318e+02 -9.49075877e-02\n",
      "  5.12642784e+02 -1.76789734e+01 -1.66648592e+02  1.09381527e+04]\n",
      "Linear Regression intercept is :  -4271144.424454918\n",
      "----------------------------------------------------\n",
      "Predicted Value for Linear Regression is :  [14026.20107129 30676.98165748 31423.28803738 26396.17145025\n",
      " 31184.51892066 31433.41617958 21143.33310015 12251.21270953\n",
      " 19924.9489521  33370.53718373]\n"
     ]
    }
   ],
   "source": [
    "LinearRegressionModel = LinearRegression(fit_intercept=True, normalize=True,copy_X=True,n_jobs=-1)\n",
    "LinearRegressionModel.fit(x_train, y_train)\n",
    "\n",
    "print('Linear Regression Train Score is : ' , LinearRegressionModel.score(x_train, y_train))\n",
    "print('Linear Regression Test Score is : ' , LinearRegressionModel.score(x_test, y_test))\n",
    "print('Linear Regression Coef is : ' , LinearRegressionModel.coef_)\n",
    "print('Linear Regression intercept is : ' , LinearRegressionModel.intercept_)\n",
    "print('----------------------------------------------------')\n",
    "\n",
    "y_pred = LinearRegressionModel.predict(x_test)\n",
    "print('Predicted Value for Linear Regression is : ' , y_pred[:10])\n"
   ]
  },
  {
   "cell_type": "code",
   "execution_count": 18,
   "id": "284acee3",
   "metadata": {
    "execution": {
     "iopub.execute_input": "2021-08-29T13:37:57.892259Z",
     "iopub.status.busy": "2021-08-29T13:37:57.891586Z",
     "iopub.status.idle": "2021-08-29T13:38:00.008098Z",
     "shell.execute_reply": "2021-08-29T13:38:00.007468Z",
     "shell.execute_reply.started": "2021-08-29T13:37:16.287268Z"
    },
    "papermill": {
     "duration": 2.168805,
     "end_time": "2021-08-29T13:38:00.008258",
     "exception": false,
     "start_time": "2021-08-29T13:37:57.839453",
     "status": "completed"
    },
    "tags": []
   },
   "outputs": [
    {
     "name": "stdout",
     "output_type": "stream",
     "text": [
      "Random Forest Regressor Train Score is :  0.975690968356232\n",
      "Random Forest Regressor Test Score is :  0.9708190721522107\n",
      "Random Forest Regressor No. of features are :  8\n",
      "----------------------------------------------------\n",
      "Predicted Value for Random Forest Regressor is :  [15444.840533   23439.64042434 27967.35277748 27409.64024733\n",
      " 32041.14818844 28397.95626306 16717.8616274  34000.01842346\n",
      " 20141.700503   29835.80731183]\n"
     ]
    }
   ],
   "source": [
    "RandomForestRegressorModel = RandomForestRegressor(n_estimators=100,max_depth=11, random_state=33)\n",
    "RandomForestRegressorModel.fit(x_train, y_train)\n",
    "\n",
    "print('Random Forest Regressor Train Score is : ' , RandomForestRegressorModel.score(x_train, y_train))\n",
    "print('Random Forest Regressor Test Score is : ' , RandomForestRegressorModel.score(x_test, y_test))\n",
    "print('Random Forest Regressor No. of features are : ' , RandomForestRegressorModel.n_features_)\n",
    "print('----------------------------------------------------')\n",
    "\n",
    "y_pred = RandomForestRegressorModel.predict(x_test)\n",
    "print('Predicted Value for Random Forest Regressor is : ' , y_pred[:10])\n"
   ]
  },
  {
   "cell_type": "code",
   "execution_count": 19,
   "id": "a2cae65a",
   "metadata": {
    "execution": {
     "iopub.execute_input": "2021-08-29T13:38:00.063888Z",
     "iopub.status.busy": "2021-08-29T13:38:00.063099Z",
     "iopub.status.idle": "2021-08-29T13:38:12.768388Z",
     "shell.execute_reply": "2021-08-29T13:38:12.769174Z",
     "shell.execute_reply.started": "2021-08-29T13:37:18.451868Z"
    },
    "papermill": {
     "duration": 12.736867,
     "end_time": "2021-08-29T13:38:12.769436",
     "exception": false,
     "start_time": "2021-08-29T13:38:00.032569",
     "status": "completed"
    },
    "tags": []
   },
   "outputs": [
    {
     "name": "stdout",
     "output_type": "stream",
     "text": [
      "SVRModel Train Score is :  0.06009639727174443\n",
      "SVRModel Test Score is :  0.12834623937621403\n",
      "----------------------------------------------------\n",
      "Predicted Value for SVRModel is :  [18302.82494333 21508.41749352 21722.41899916 20631.53142302\n",
      " 21609.47710928 21748.04567665 19503.17213057 21711.8147142\n",
      " 21612.19685334 21668.80456522]\n"
     ]
    }
   ],
   "source": [
    "SVRModel = SVR(C = 1.0 ,epsilon=0.1,kernel = 'rbf') # it also can be : linear, poly, rbf, sigmoid, precomputed\n",
    "SVRModel.fit(x_train, y_train)\n",
    "\n",
    "print('SVRModel Train Score is : ' , SVRModel.score(x_train, y_train))\n",
    "print('SVRModel Test Score is : ' , SVRModel.score(x_test, y_test))\n",
    "print('----------------------------------------------------')\n",
    "\n",
    "y_pred = SVRModel.predict(x_test)\n",
    "print('Predicted Value for SVRModel is : ' , y_pred[:10])\n"
   ]
  },
  {
   "cell_type": "code",
   "execution_count": 20,
   "id": "9be173a1",
   "metadata": {
    "execution": {
     "iopub.execute_input": "2021-08-29T13:38:12.825670Z",
     "iopub.status.busy": "2021-08-29T13:38:12.824943Z",
     "iopub.status.idle": "2021-08-29T13:38:12.867110Z",
     "shell.execute_reply": "2021-08-29T13:38:12.867624Z",
     "shell.execute_reply.started": "2021-08-29T13:37:31.103186Z"
    },
    "papermill": {
     "duration": 0.074102,
     "end_time": "2021-08-29T13:38:12.867810",
     "exception": false,
     "start_time": "2021-08-29T13:38:12.793708",
     "status": "completed"
    },
    "tags": []
   },
   "outputs": [
    {
     "name": "stdout",
     "output_type": "stream",
     "text": [
      "DecisionTreeRegressor Train Score is :  0.971543185117051\n",
      "DecisionTreeRegressor Test Score is :  0.9639875288509203\n",
      "----------------------------------------------------\n",
      "Predicted Value for DecisionTreeRegressorModel is :  [15465.06349206 23824.31818182 28166.29487179 26989.57142857\n",
      " 32048.08219178 28166.29487179 16366.71428571 33319.328125\n",
      " 19602.16149068 29548.47058824]\n"
     ]
    }
   ],
   "source": [
    "DecisionTreeRegressorModel = DecisionTreeRegressor( max_depth=11,random_state=33)\n",
    "DecisionTreeRegressorModel.fit(x_train, y_train)\n",
    "\n",
    "print('DecisionTreeRegressor Train Score is : ' , DecisionTreeRegressorModel.score(x_train, y_train))\n",
    "print('DecisionTreeRegressor Test Score is : ' , DecisionTreeRegressorModel.score(x_test, y_test))\n",
    "print('----------------------------------------------------')\n",
    "y_pred = DecisionTreeRegressorModel.predict(x_test)\n",
    "print('Predicted Value for DecisionTreeRegressorModel is : ' , y_pred[:10])"
   ]
  },
  {
   "cell_type": "code",
   "execution_count": 21,
   "id": "933657f9",
   "metadata": {
    "execution": {
     "iopub.execute_input": "2021-08-29T13:38:12.923150Z",
     "iopub.status.busy": "2021-08-29T13:38:12.922529Z",
     "iopub.status.idle": "2021-08-29T13:38:12.925843Z",
     "shell.execute_reply": "2021-08-29T13:38:12.926360Z",
     "shell.execute_reply.started": "2021-08-29T13:37:31.155613Z"
    },
    "papermill": {
     "duration": 0.034774,
     "end_time": "2021-08-29T13:38:12.926525",
     "exception": false,
     "start_time": "2021-08-29T13:38:12.891751",
     "status": "completed"
    },
    "tags": []
   },
   "outputs": [
    {
     "name": "stdout",
     "output_type": "stream",
     "text": [
      "Mean Squared Error Value is :  2853275.1583496514\n"
     ]
    }
   ],
   "source": [
    "MSEValue = mean_squared_error(y_test, y_pred, multioutput='uniform_average') # it can be raw_values\n",
    "print('Mean Squared Error Value is : ', MSEValue)\n"
   ]
  },
  {
   "cell_type": "code",
   "execution_count": null,
   "id": "18275cfb",
   "metadata": {
    "papermill": {
     "duration": 0.023962,
     "end_time": "2021-08-29T13:38:12.974875",
     "exception": false,
     "start_time": "2021-08-29T13:38:12.950913",
     "status": "completed"
    },
    "tags": []
   },
   "outputs": [],
   "source": []
  }
 ],
 "metadata": {
  "kernelspec": {
   "display_name": "Python 3",
   "language": "python",
   "name": "python3"
  },
  "language_info": {
   "codemirror_mode": {
    "name": "ipython",
    "version": 3
   },
   "file_extension": ".py",
   "mimetype": "text/x-python",
   "name": "python",
   "nbconvert_exporter": "python",
   "pygments_lexer": "ipython3",
   "version": "3.7.10"
  },
  "papermill": {
   "default_parameters": {},
   "duration": 26.629636,
   "end_time": "2021-08-29T13:38:13.708746",
   "environment_variables": {},
   "exception": null,
   "input_path": "__notebook__.ipynb",
   "output_path": "__notebook__.ipynb",
   "parameters": {},
   "start_time": "2021-08-29T13:37:47.079110",
   "version": "2.3.3"
  }
 },
 "nbformat": 4,
 "nbformat_minor": 5
}
